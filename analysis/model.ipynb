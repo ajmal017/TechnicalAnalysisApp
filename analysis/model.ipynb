{
 "cells": [
  {
   "cell_type": "code",
   "execution_count": 1,
   "metadata": {},
   "outputs": [
    {
     "name": "stderr",
     "output_type": "stream",
     "text": [
      "C:\\Anaconda\\lib\\site-packages\\sklearn\\ensemble\\weight_boosting.py:29: DeprecationWarning: numpy.core.umath_tests is an internal NumPy module and should not be imported. It will be removed in a future NumPy release.\n",
      "  from numpy.core.umath_tests import inner1d\n"
     ]
    }
   ],
   "source": [
    "import numpy as np\n",
    "import pandas as pd\n",
    "import matplotlib.pyplot as plt\n",
    "from sklearn.linear_model import LogisticRegression, LinearRegression\n",
    "from sklearn.svm import SVC, SVR\n",
    "from sklearn.ensemble import RandomForestClassifier, RandomForestRegressor\n",
    "from sklearn.metrics import classification_report"
   ]
  },
  {
   "cell_type": "code",
   "execution_count": 2,
   "metadata": {},
   "outputs": [
    {
     "name": "stdout",
     "output_type": "stream",
     "text": [
      "(4681, 16)\n"
     ]
    },
    {
     "data": {
      "text/html": [
       "<div>\n",
       "<style scoped>\n",
       "    .dataframe tbody tr th:only-of-type {\n",
       "        vertical-align: middle;\n",
       "    }\n",
       "\n",
       "    .dataframe tbody tr th {\n",
       "        vertical-align: top;\n",
       "    }\n",
       "\n",
       "    .dataframe thead th {\n",
       "        text-align: right;\n",
       "    }\n",
       "</style>\n",
       "<table border=\"1\" class=\"dataframe\">\n",
       "  <thead>\n",
       "    <tr style=\"text-align: right;\">\n",
       "      <th></th>\n",
       "      <th>High</th>\n",
       "      <th>Low</th>\n",
       "      <th>Open</th>\n",
       "      <th>Close</th>\n",
       "      <th>Volume</th>\n",
       "      <th>Adj Close</th>\n",
       "      <th>MACD</th>\n",
       "      <th>MACD_Signal</th>\n",
       "      <th>ADX</th>\n",
       "      <th>ADX_POS</th>\n",
       "      <th>ADX_NEG</th>\n",
       "      <th>BBH</th>\n",
       "      <th>BBL</th>\n",
       "      <th>RSI</th>\n",
       "      <th>Target</th>\n",
       "      <th>Trend</th>\n",
       "    </tr>\n",
       "    <tr>\n",
       "      <th>Date</th>\n",
       "      <th></th>\n",
       "      <th></th>\n",
       "      <th></th>\n",
       "      <th></th>\n",
       "      <th></th>\n",
       "      <th></th>\n",
       "      <th></th>\n",
       "      <th></th>\n",
       "      <th></th>\n",
       "      <th></th>\n",
       "      <th></th>\n",
       "      <th></th>\n",
       "      <th></th>\n",
       "      <th></th>\n",
       "      <th></th>\n",
       "      <th></th>\n",
       "    </tr>\n",
       "  </thead>\n",
       "  <tbody>\n",
       "    <tr>\n",
       "      <th>2001-07-02</th>\n",
       "      <td>2.4750</td>\n",
       "      <td>2.4000</td>\n",
       "      <td>2.4025</td>\n",
       "      <td>2.4025</td>\n",
       "      <td>110800.0</td>\n",
       "      <td>0.526630</td>\n",
       "      <td>0.000000</td>\n",
       "      <td>0.000000</td>\n",
       "      <td>0.0</td>\n",
       "      <td>0.0</td>\n",
       "      <td>0.0</td>\n",
       "      <td>2.402500</td>\n",
       "      <td>2.402500</td>\n",
       "      <td>100.000000</td>\n",
       "      <td>2.400</td>\n",
       "      <td>0</td>\n",
       "    </tr>\n",
       "    <tr>\n",
       "      <th>2001-07-03</th>\n",
       "      <td>2.4750</td>\n",
       "      <td>2.3750</td>\n",
       "      <td>2.4750</td>\n",
       "      <td>2.4000</td>\n",
       "      <td>77520.0</td>\n",
       "      <td>0.526082</td>\n",
       "      <td>-0.000199</td>\n",
       "      <td>-0.000040</td>\n",
       "      <td>0.0</td>\n",
       "      <td>0.0</td>\n",
       "      <td>0.0</td>\n",
       "      <td>2.403750</td>\n",
       "      <td>2.398750</td>\n",
       "      <td>0.000000</td>\n",
       "      <td>2.420</td>\n",
       "      <td>1</td>\n",
       "    </tr>\n",
       "    <tr>\n",
       "      <th>2001-07-04</th>\n",
       "      <td>2.4500</td>\n",
       "      <td>2.3875</td>\n",
       "      <td>2.4250</td>\n",
       "      <td>2.4200</td>\n",
       "      <td>49360.0</td>\n",
       "      <td>0.530466</td>\n",
       "      <td>0.001242</td>\n",
       "      <td>0.000217</td>\n",
       "      <td>0.0</td>\n",
       "      <td>0.0</td>\n",
       "      <td>0.0</td>\n",
       "      <td>2.425295</td>\n",
       "      <td>2.389705</td>\n",
       "      <td>89.600667</td>\n",
       "      <td>2.415</td>\n",
       "      <td>0</td>\n",
       "    </tr>\n",
       "    <tr>\n",
       "      <th>2001-07-05</th>\n",
       "      <td>2.4725</td>\n",
       "      <td>2.4000</td>\n",
       "      <td>2.4500</td>\n",
       "      <td>2.4150</td>\n",
       "      <td>62700.0</td>\n",
       "      <td>0.529370</td>\n",
       "      <td>0.001958</td>\n",
       "      <td>0.000565</td>\n",
       "      <td>0.0</td>\n",
       "      <td>0.0</td>\n",
       "      <td>0.0</td>\n",
       "      <td>2.426099</td>\n",
       "      <td>2.392651</td>\n",
       "      <td>72.186514</td>\n",
       "      <td>2.400</td>\n",
       "      <td>0</td>\n",
       "    </tr>\n",
       "    <tr>\n",
       "      <th>2001-07-06</th>\n",
       "      <td>2.4250</td>\n",
       "      <td>2.3500</td>\n",
       "      <td>2.4250</td>\n",
       "      <td>2.4000</td>\n",
       "      <td>117800.0</td>\n",
       "      <td>0.526082</td>\n",
       "      <td>0.001301</td>\n",
       "      <td>0.000712</td>\n",
       "      <td>0.0</td>\n",
       "      <td>0.0</td>\n",
       "      <td>0.0</td>\n",
       "      <td>2.424233</td>\n",
       "      <td>2.390767</td>\n",
       "      <td>44.343619</td>\n",
       "      <td>2.380</td>\n",
       "      <td>0</td>\n",
       "    </tr>\n",
       "  </tbody>\n",
       "</table>\n",
       "</div>"
      ],
      "text/plain": [
       "              High     Low    Open   Close    Volume  Adj Close      MACD  \\\n",
       "Date                                                                        \n",
       "2001-07-02  2.4750  2.4000  2.4025  2.4025  110800.0   0.526630  0.000000   \n",
       "2001-07-03  2.4750  2.3750  2.4750  2.4000   77520.0   0.526082 -0.000199   \n",
       "2001-07-04  2.4500  2.3875  2.4250  2.4200   49360.0   0.530466  0.001242   \n",
       "2001-07-05  2.4725  2.4000  2.4500  2.4150   62700.0   0.529370  0.001958   \n",
       "2001-07-06  2.4250  2.3500  2.4250  2.4000  117800.0   0.526082  0.001301   \n",
       "\n",
       "            MACD_Signal  ADX  ADX_POS  ADX_NEG       BBH       BBL  \\\n",
       "Date                                                                 \n",
       "2001-07-02     0.000000  0.0      0.0      0.0  2.402500  2.402500   \n",
       "2001-07-03    -0.000040  0.0      0.0      0.0  2.403750  2.398750   \n",
       "2001-07-04     0.000217  0.0      0.0      0.0  2.425295  2.389705   \n",
       "2001-07-05     0.000565  0.0      0.0      0.0  2.426099  2.392651   \n",
       "2001-07-06     0.000712  0.0      0.0      0.0  2.424233  2.390767   \n",
       "\n",
       "                   RSI  Target  Trend  \n",
       "Date                                   \n",
       "2001-07-02  100.000000   2.400      0  \n",
       "2001-07-03    0.000000   2.420      1  \n",
       "2001-07-04   89.600667   2.415      0  \n",
       "2001-07-05   72.186514   2.400      0  \n",
       "2001-07-06   44.343619   2.380      0  "
      ]
     },
     "execution_count": 2,
     "metadata": {},
     "output_type": "execute_result"
    }
   ],
   "source": [
    "data = pd.read_csv('data/KOTAKBANK.NS_dataset.csv', index_col=0)\n",
    "data['Target'] = data['Close'].shift(-1)\n",
    "data['Trend'] = data.apply(lambda x : 1 if x['Target'] > x['Close'] else 0, axis=1)\n",
    "data = data.dropna()\n",
    "print(data.shape)\n",
    "data.head(5)"
   ]
  },
  {
   "cell_type": "code",
   "execution_count": 127,
   "metadata": {},
   "outputs": [
    {
     "name": "stdout",
     "output_type": "stream",
     "text": [
      "             precision    recall  f1-score   support\n",
      "\n",
      "          0       0.48      0.48      0.48       174\n",
      "          1       0.52      0.52      0.52       186\n",
      "\n",
      "avg / total       0.50      0.50      0.50       360\n",
      "\n",
      "0.0\n"
     ]
    }
   ],
   "source": [
    "X = np.array(data[['ADX', 'ADX_POS', 'ADX_NEG', 'RSI', 'MACD', 'MACD_Signal']])\n",
    "Y = np.array(data['Trend'])\n",
    "X_train = X[:-360]\n",
    "X_test = X[-360:]\n",
    "Y_train = Y[:-360]\n",
    "Y_test = Y[-360:]\n",
    "rf = RandomForestRegressor()\n",
    "rf.fit(X_train, Y_train)\n",
    "discrete = lambda x : 1 if x > 0.5 else 0\n",
    "Y_pred = np.array([discrete(x) for x in rf.predict(X_test)])\n",
    "print(classification_report(Y_test, Y_pred))\n",
    "print(np.min(rf.predict(X_test)))"
   ]
  },
  {
   "cell_type": "code",
   "execution_count": 17,
   "metadata": {},
   "outputs": [
    {
     "name": "stdout",
     "output_type": "stream",
     "text": [
      "             precision    recall  f1-score   support\n",
      "\n",
      "          0       0.44      0.18      0.26       174\n",
      "          1       0.51      0.78      0.62       186\n",
      "\n",
      "avg / total       0.48      0.49      0.44       360\n",
      "\n"
     ]
    }
   ],
   "source": [
    "# Linear Regression\n",
    "lr = LinearRegression()\n",
    "lr.fit(X_train, Y_train)\n",
    "discrete = lambda x : 1 if x > 0.5 else 0\n",
    "Y_pred = np.array([discrete(x) for x in lr.predict(X_test)])\n",
    "print(classification_report(Y_test, Y_pred))"
   ]
  },
  {
   "cell_type": "code",
   "execution_count": 18,
   "metadata": {},
   "outputs": [
    {
     "name": "stdout",
     "output_type": "stream",
     "text": [
      "             precision    recall  f1-score   support\n",
      "\n",
      "          0       0.00      0.00      0.00       174\n",
      "          1       0.52      1.00      0.68       186\n",
      "\n",
      "avg / total       0.27      0.52      0.35       360\n",
      "\n"
     ]
    },
    {
     "name": "stderr",
     "output_type": "stream",
     "text": [
      "C:\\Anaconda\\lib\\site-packages\\sklearn\\metrics\\classification.py:1135: UndefinedMetricWarning: Precision and F-score are ill-defined and being set to 0.0 in labels with no predicted samples.\n",
      "  'precision', 'predicted', average, warn_for)\n"
     ]
    }
   ],
   "source": [
    "# SVM Regression\n",
    "svr = SVR()\n",
    "svr.fit(X_train, Y_train)\n",
    "discrete = lambda x : 1 if x > 0.5 else 0\n",
    "Y_pred = np.array([discrete(x) for x in svr.predict(X_test)])\n",
    "print(classification_report(Y_test, Y_pred))"
   ]
  },
  {
   "cell_type": "code",
   "execution_count": null,
   "metadata": {},
   "outputs": [],
   "source": []
  }
 ],
 "metadata": {
  "kernelspec": {
   "display_name": "Python 3",
   "language": "python",
   "name": "python3"
  },
  "language_info": {
   "codemirror_mode": {
    "name": "ipython",
    "version": 3
   },
   "file_extension": ".py",
   "mimetype": "text/x-python",
   "name": "python",
   "nbconvert_exporter": "python",
   "pygments_lexer": "ipython3",
   "version": "3.7.0"
  }
 },
 "nbformat": 4,
 "nbformat_minor": 2
}
